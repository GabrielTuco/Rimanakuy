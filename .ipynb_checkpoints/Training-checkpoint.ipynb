{
 "cells": [
  {
   "cell_type": "code",
   "execution_count": 1,
   "id": "f040e3ce",
   "metadata": {},
   "outputs": [
    {
     "name": "stdout",
     "output_type": "stream",
     "text": [
      "Python 3.10.14\n"
     ]
    }
   ],
   "source": [
    "!python --version\n"
   ]
  },
  {
   "cell_type": "code",
   "execution_count": 2,
   "id": "cd8f7958",
   "metadata": {},
   "outputs": [
    {
     "name": "stdout",
     "output_type": "stream",
     "text": [
      " El volumen de la unidad E es Datos\n",
      " El n£mero de serie del volumen es: C63D-876C\n",
      "\n",
      " Directorio de E:\\Tesis\\Code\\Rimanakuy\n",
      "\n",
      "17/07/2024  12:04    <DIR>          .\n",
      "17/07/2024  12:04    <DIR>          ..\n",
      "17/07/2024  12:04                62 .gitignore\n",
      "17/07/2024  12:04    <DIR>          .ipynb_checkpoints\n",
      "17/07/2024  12:04    <DIR>          __pycache__\n",
      "17/07/2024  12:04    <DIR>          configs\n",
      "17/07/2024  12:04    <DIR>          datasets\n",
      "17/07/2024  12:04    <DIR>          experiments\n",
      "17/07/2024  12:04    <DIR>          helpers\n",
      "17/07/2024  12:04    <DIR>          libs\n",
      "17/07/2024  12:04    <DIR>          models\n",
      "17/07/2024  12:04    <DIR>          modules\n",
      "17/07/2024  12:04    <DIR>          mylogger\n",
      "17/07/2024  12:04               297 requirements.txt\n",
      "17/07/2024  12:04             1.200 sys_config.py\n",
      "17/07/2024  12:04    <DIR>          tools\n",
      "17/07/2024  12:04            43.790 Training.ipynb\n",
      "               4 archivos         45.349 bytes\n",
      "              13 dirs  373.647.020.032 bytes libres\n"
     ]
    }
   ],
   "source": [
    "%ls"
   ]
  },
  {
   "cell_type": "code",
   "execution_count": null,
   "id": "ba8bb148",
   "metadata": {},
   "outputs": [],
   "source": [
    "!pip install -r requirements.txt"
   ]
  },
  {
   "cell_type": "code",
   "execution_count": 13,
   "id": "65ef059c",
   "metadata": {},
   "outputs": [
    {
     "name": "stdout",
     "output_type": "stream",
     "text": [
      "Collecting tensorboard\n",
      "  Obtaining dependency information for tensorboard from https://files.pythonhosted.org/packages/73/a2/66ed644f6ed1562e0285fcd959af17670ea313c8f331c46f79ee77187eb9/tensorboard-2.14.1-py3-none-any.whl.metadata\n",
      "  Downloading tensorboard-2.14.1-py3-none-any.whl.metadata (1.7 kB)\n",
      "Collecting absl-py>=0.4 (from tensorboard)\n",
      "  Obtaining dependency information for absl-py>=0.4 from https://files.pythonhosted.org/packages/01/e4/dc0a1dcc4e74e08d7abedab278c795eef54a224363bb18f5692f416d834f/absl_py-2.0.0-py3-none-any.whl.metadata\n",
      "  Downloading absl_py-2.0.0-py3-none-any.whl.metadata (2.3 kB)\n",
      "Collecting grpcio>=1.48.2 (from tensorboard)\n",
      "  Obtaining dependency information for grpcio>=1.48.2 from https://files.pythonhosted.org/packages/c7/40/d43d62a1da2d49700c3defddc307ca4b4e1a405a6ffd5fdacfcb4eea03da/grpcio-1.59.0-cp310-cp310-win_amd64.whl.metadata\n",
      "  Downloading grpcio-1.59.0-cp310-cp310-win_amd64.whl.metadata (4.2 kB)\n",
      "Collecting google-auth<3,>=1.6.3 (from tensorboard)\n",
      "  Obtaining dependency information for google-auth<3,>=1.6.3 from https://files.pythonhosted.org/packages/39/7c/2e4fa55a99f83ef9ef229ac5d59c44ceb90e2d0145711590c0fa39669f32/google_auth-2.23.3-py2.py3-none-any.whl.metadata\n",
      "  Downloading google_auth-2.23.3-py2.py3-none-any.whl.metadata (4.2 kB)\n",
      "Collecting google-auth-oauthlib<1.1,>=0.5 (from tensorboard)\n",
      "  Downloading google_auth_oauthlib-1.0.0-py2.py3-none-any.whl (18 kB)\n",
      "Collecting markdown>=2.6.8 (from tensorboard)\n",
      "  Obtaining dependency information for markdown>=2.6.8 from https://files.pythonhosted.org/packages/bb/c1/50caaec6cadc1c6adc8fe351e03bd646d6e4dd17f55fca0f4c8d7ea8d3e9/Markdown-3.5-py3-none-any.whl.metadata\n",
      "  Downloading Markdown-3.5-py3-none-any.whl.metadata (7.1 kB)\n",
      "Requirement already satisfied: numpy>=1.12.0 in c:\\users\\gabri\\anaconda3\\envs\\rimanakuy1\\lib\\site-packages (from tensorboard) (1.26.0)\n",
      "Collecting protobuf>=3.19.6 (from tensorboard)\n",
      "  Obtaining dependency information for protobuf>=3.19.6 from https://files.pythonhosted.org/packages/c2/59/f89c04923d68595d359f4cd7adbbdf5e5d791257945f8873d88b2fd1f979/protobuf-4.24.4-cp310-abi3-win_amd64.whl.metadata\n",
      "  Downloading protobuf-4.24.4-cp310-abi3-win_amd64.whl.metadata (540 bytes)\n",
      "Requirement already satisfied: requests<3,>=2.21.0 in c:\\users\\gabri\\anaconda3\\envs\\rimanakuy1\\lib\\site-packages (from tensorboard) (2.31.0)\n",
      "Requirement already satisfied: setuptools>=41.0.0 in c:\\users\\gabri\\anaconda3\\envs\\rimanakuy1\\lib\\site-packages (from tensorboard) (68.0.0)\n",
      "Requirement already satisfied: six>1.9 in c:\\users\\gabri\\anaconda3\\envs\\rimanakuy1\\lib\\site-packages (from tensorboard) (1.16.0)\n",
      "Collecting tensorboard-data-server<0.8.0,>=0.7.0 (from tensorboard)\n",
      "  Obtaining dependency information for tensorboard-data-server<0.8.0,>=0.7.0 from https://files.pythonhosted.org/packages/da/61/6e9ff8258422d287eec718872fb71e05324356722ab658c8afda25f51539/tensorboard_data_server-0.7.1-py3-none-any.whl.metadata\n",
      "  Downloading tensorboard_data_server-0.7.1-py3-none-any.whl.metadata (1.1 kB)\n",
      "Collecting werkzeug>=1.0.1 (from tensorboard)\n",
      "  Obtaining dependency information for werkzeug>=1.0.1 from https://files.pythonhosted.org/packages/b6/a5/54b01f663d60d5334f6c9c87c26274e94617a4fd463d812463626423b10d/werkzeug-3.0.0-py3-none-any.whl.metadata\n",
      "  Downloading werkzeug-3.0.0-py3-none-any.whl.metadata (4.1 kB)\n",
      "Collecting cachetools<6.0,>=2.0.0 (from google-auth<3,>=1.6.3->tensorboard)\n",
      "  Obtaining dependency information for cachetools<6.0,>=2.0.0 from https://files.pythonhosted.org/packages/a9/c9/c8a7710f2cedcb1db9224fdd4d8307c9e48cbddc46c18b515fefc0f1abbe/cachetools-5.3.1-py3-none-any.whl.metadata\n",
      "  Downloading cachetools-5.3.1-py3-none-any.whl.metadata (5.2 kB)\n",
      "Collecting pyasn1-modules>=0.2.1 (from google-auth<3,>=1.6.3->tensorboard)\n",
      "  Using cached pyasn1_modules-0.3.0-py2.py3-none-any.whl (181 kB)\n",
      "Collecting rsa<5,>=3.1.4 (from google-auth<3,>=1.6.3->tensorboard)\n",
      "  Using cached rsa-4.9-py3-none-any.whl (34 kB)\n",
      "Collecting requests-oauthlib>=0.7.0 (from google-auth-oauthlib<1.1,>=0.5->tensorboard)\n",
      "  Using cached requests_oauthlib-1.3.1-py2.py3-none-any.whl (23 kB)\n",
      "Requirement already satisfied: charset-normalizer<4,>=2 in c:\\users\\gabri\\anaconda3\\envs\\rimanakuy1\\lib\\site-packages (from requests<3,>=2.21.0->tensorboard) (3.3.0)\n",
      "Requirement already satisfied: idna<4,>=2.5 in c:\\users\\gabri\\anaconda3\\envs\\rimanakuy1\\lib\\site-packages (from requests<3,>=2.21.0->tensorboard) (3.4)\n",
      "Requirement already satisfied: urllib3<3,>=1.21.1 in c:\\users\\gabri\\anaconda3\\envs\\rimanakuy1\\lib\\site-packages (from requests<3,>=2.21.0->tensorboard) (2.0.6)\n",
      "Requirement already satisfied: certifi>=2017.4.17 in c:\\users\\gabri\\anaconda3\\envs\\rimanakuy1\\lib\\site-packages (from requests<3,>=2.21.0->tensorboard) (2023.7.22)\n",
      "Requirement already satisfied: MarkupSafe>=2.1.1 in c:\\users\\gabri\\anaconda3\\envs\\rimanakuy1\\lib\\site-packages (from werkzeug>=1.0.1->tensorboard) (2.1.1)\n",
      "Collecting pyasn1<0.6.0,>=0.4.6 (from pyasn1-modules>=0.2.1->google-auth<3,>=1.6.3->tensorboard)\n",
      "  Using cached pyasn1-0.5.0-py2.py3-none-any.whl (83 kB)\n",
      "Collecting oauthlib>=3.0.0 (from requests-oauthlib>=0.7.0->google-auth-oauthlib<1.1,>=0.5->tensorboard)\n",
      "  Using cached oauthlib-3.2.2-py3-none-any.whl (151 kB)\n",
      "Downloading tensorboard-2.14.1-py3-none-any.whl (5.5 MB)\n",
      "   ---------------------------------------- 0.0/5.5 MB ? eta -:--:--\n",
      "   ---------------------------------------- 0.1/5.5 MB 3.2 MB/s eta 0:00:02\n",
      "   - -------------------------------------- 0.2/5.5 MB 3.6 MB/s eta 0:00:02\n",
      "   ---- ----------------------------------- 0.7/5.5 MB 6.0 MB/s eta 0:00:01\n",
      "   ---------- ----------------------------- 1.5/5.5 MB 8.5 MB/s eta 0:00:01\n",
      "   ----------------------------- ---------- 4.0/5.5 MB 18.3 MB/s eta 0:00:01\n",
      "   ---------------------------------------  5.5/5.5 MB 22.0 MB/s eta 0:00:01\n",
      "   ---------------------------------------- 5.5/5.5 MB 19.6 MB/s eta 0:00:00\n",
      "Using cached absl_py-2.0.0-py3-none-any.whl (130 kB)\n",
      "Downloading google_auth-2.23.3-py2.py3-none-any.whl (182 kB)\n",
      "   ---------------------------------------- 0.0/182.3 kB ? eta -:--:--\n",
      "   ---------------------------------------- 182.3/182.3 kB ? eta 0:00:00\n",
      "Downloading grpcio-1.59.0-cp310-cp310-win_amd64.whl (3.7 MB)\n",
      "   ---------------------------------------- 0.0/3.7 MB ? eta -:--:--\n",
      "   ----------- ---------------------------- 1.0/3.7 MB 22.0 MB/s eta 0:00:01\n",
      "   ------------------------- -------------- 2.4/3.7 MB 25.1 MB/s eta 0:00:01\n",
      "   -------------------------------------- - 3.5/3.7 MB 25.2 MB/s eta 0:00:01\n",
      "   ---------------------------------------- 3.7/3.7 MB 23.4 MB/s eta 0:00:00\n",
      "Downloading Markdown-3.5-py3-none-any.whl (101 kB)\n",
      "   ---------------------------------------- 0.0/101.7 kB ? eta -:--:--\n",
      "   ---------------------------------------- 101.7/101.7 kB 5.7 MB/s eta 0:00:00\n",
      "Downloading protobuf-4.24.4-cp310-abi3-win_amd64.whl (430 kB)\n",
      "   ---------------------------------------- 0.0/430.5 kB ? eta -:--:--\n",
      "   --------------------------------------- 430.5/430.5 kB 28.0 MB/s eta 0:00:00\n",
      "Downloading tensorboard_data_server-0.7.1-py3-none-any.whl (2.4 kB)\n",
      "Downloading werkzeug-3.0.0-py3-none-any.whl (226 kB)\n",
      "   ---------------------------------------- 0.0/226.6 kB ? eta -:--:--\n",
      "   --------------------------------------- 226.6/226.6 kB 13.5 MB/s eta 0:00:00\n",
      "Using cached cachetools-5.3.1-py3-none-any.whl (9.3 kB)\n",
      "Installing collected packages: werkzeug, tensorboard-data-server, pyasn1, protobuf, oauthlib, markdown, grpcio, cachetools, absl-py, rsa, requests-oauthlib, pyasn1-modules, google-auth, google-auth-oauthlib, tensorboard\n",
      "Successfully installed absl-py-2.0.0 cachetools-5.3.1 google-auth-2.23.3 google-auth-oauthlib-1.0.0 grpcio-1.59.0 markdown-3.5 oauthlib-3.2.2 protobuf-4.24.4 pyasn1-0.5.0 pyasn1-modules-0.3.0 requests-oauthlib-1.3.1 rsa-4.9 tensorboard-2.14.1 tensorboard-data-server-0.7.1 werkzeug-3.0.0\n"
     ]
    }
   ],
   "source": [
    "!pip install tensorboard"
   ]
  },
  {
   "cell_type": "code",
   "execution_count": 19,
   "id": "fdd3154c",
   "metadata": {},
   "outputs": [
    {
     "name": "stdout",
     "output_type": "stream",
     "text": [
      "config:configs/prototype.trans_lm_qu.yaml\n",
      "name:prototype.trans_lm_qu\n",
      "desc:None\n",
      "tag:None\n",
      "visdom:False\n",
      "pin_memory:False\n",
      "resume_cp:None\n",
      "resume_state_id:None\n",
      "device:cpu\n",
      "cores:4\n",
      "src_dirs:['C:\\\\Users\\\\gabri\\\\Rimanakuy\\\\models', 'C:\\\\Users\\\\gabri\\\\Rimanakuy\\\\modules', 'C:\\\\Users\\\\gabri\\\\Rimanakuy\\\\helpers']\n",
      "\n",
      "{'batch_tokens': 1000,\n",
      " 'config': 'configs/prototype.trans_lm_qu.yaml',\n",
      " 'cores': 4,\n",
      " 'data': {'embeddings': None,\n",
      "          'seq_len': 250,\n",
      "          'sos': True,\n",
      "          'subword_path': 'C:\\\\Users\\\\gabri\\\\Rimanakuy\\\\datasets\\\\source',\n",
      "          'train_path': 'C:\\\\Users\\\\gabri\\\\Rimanakuy\\\\datasets\\\\mono\\\\prototype\\\\en.train',\n",
      "          'val_path': 'C:\\\\Users\\\\gabri\\\\Rimanakuy\\\\datasets\\\\mono\\\\prototype\\\\en.valid',\n",
      "          'vocab_size': 10000},\n",
      " 'desc': None,\n",
      " 'device': 'cpu',\n",
      " 'epochs': 200,\n",
      " 'logging': {'checkpoint_interval': 1000,\n",
      "             'emb_inspect_interval': 1000,\n",
      "             'log_interval': 100,\n",
      "             'module_grad_interval': 500,\n",
      "             'samples_interval': 500},\n",
      " 'losses': {'lm': {'perplexity': True, 'tag': 'lm', 'weight': 1}},\n",
      " 'model': {'dropout': 0.1,\n",
      "           'emb_size': 512,\n",
      "           'emb_trainable': True,\n",
      "           'inp_dropout': 0.0,\n",
      "           'mode': 'LM',\n",
      "           'nhead': 8,\n",
      "           'nhid': 1024,\n",
      "           'nlayers': 4,\n",
      "           'tie_projections': True,\n",
      "           'type': 'transformer'},\n",
      " 'name': 'prototype.trans_lm_qu',\n",
      " 'optim': {'clip': 1,\n",
      "           'early_stop': 10,\n",
      "           'eta_min': 1e-05,\n",
      "           'gamma': 0.3,\n",
      "           'k': 10,\n",
      "           'lr': 0.001,\n",
      "           'milestones': [5, 15],\n",
      "           'min_lr': 0.0001,\n",
      "           'optimizer': 'ranger',\n",
      "           'patience': 2,\n",
      "           'scheduler': 'plateau',\n",
      "           'step_size': 1,\n",
      "           'weight_decay': 0.0},\n",
      " 'parallel': False,\n",
      " 'pin_memory': False,\n",
      " 'resume_cp': None,\n",
      " 'resume_state_id': None,\n",
      " 'src_dirs': ['C:\\\\Users\\\\gabri\\\\Rimanakuy\\\\models',\n",
      "              'C:\\\\Users\\\\gabri\\\\Rimanakuy\\\\modules',\n",
      "              'C:\\\\Users\\\\gabri\\\\Rimanakuy\\\\helpers'],\n",
      " 'tag': None,\n",
      " 'visdom': False}\n",
      "Building training dataset...\n",
      "Preprocessing...\n",
      "Caching lines to C:\\Users\\gabri\\Rimanakuy\\datasets\\mono\\prototype\\en.train.cache\n",
      "Writing data to cache...\n",
      "file        examples    vocab    tokens (unique)  tokens (total)      max length\n",
      "--------  ----------  -------  -----------------  ----------------  ------------\n",
      "en.train       10000    38218              38215  718.3K                     250\n",
      "Building validation dataset...\n",
      "Preprocessing...\n",
      "Caching lines to C:\\Users\\gabri\\Rimanakuy\\datasets\\mono\\prototype\\en.valid.cache\n",
      "Writing data to cache...\n",
      "file        examples    vocab    tokens (unique)  tokens (total)      max length\n",
      "--------  ----------  -------  -----------------  ----------------  ------------\n",
      "en.valid        1000    38218              38215  74.0K                      250\n",
      "TransformerLM(\n",
      "  (embed): Embed(\n",
      "    (embedding): Embedding(38218, 512, padding_idx=0)\n",
      "    (emb_dropout): Dropout(p=0.0, inplace=False)\n",
      "  )\n",
      "  (encoder): TransformerEncoder(num_layers=4, num_heads=8)\n",
      "  (logits): Linear(in_features=512, out_features=38218, bias=True)\n",
      ")\n",
      "Total Params: 28.0M\n",
      "Total Trainable Params: 28.0M\n",
      "Starting with state id:None...\n"
     ]
    },
    {
     "name": "stderr",
     "output_type": "stream",
     "text": [
      "\n",
      "  0%|          | 0/1512946 [00:00<?, ?it/s]\n",
      " 10%|9         | 147771/1512946 [00:00<00:00, 1471655.39it/s]\n",
      " 21%|##1       | 320740/1512946 [00:00<00:00, 1539067.38it/s]\n",
      " 32%|###2      | 490888/1512946 [00:00<00:00, 1584279.61it/s]\n",
      " 44%|####4     | 668555/1512946 [00:00<00:00, 1636901.18it/s]\n",
      " 56%|#####5    | 843211/1512946 [00:00<00:00, 1668085.21it/s]\n",
      " 68%|######7   | 1022063/1512946 [00:00<00:00, 1700951.58it/s]\n",
      " 79%|#######8  | 1194080/1512946 [00:00<00:00, 1701857.20it/s]\n",
      " 90%|######### | 1368780/1512946 [00:00<00:00, 1711997.88it/s]\n",
      "100%|#########9| 1512817/1512946 [00:00<00:00, 1707446.50it/s]\n",
      "\n",
      "  0%|          | 0/153250 [00:00<?, ?it/s]\n",
      "100%|#########9| 153097/153250 [00:00<00:00, 1527293.69it/s]\n",
      "Setting up a new session...\n",
      "Without the incoming socket you cannot receive events from the server or register event handlers to your Visdom client.\n",
      "Traceback (most recent call last):\n",
      "  File \"C:\\Users\\gabri\\Rimanakuy\\models\\sent_lm.py\", line 105, in <module>\n",
      "    trained_model = run(_config)\n",
      "  File \"C:\\Users\\gabri\\Rimanakuy\\models\\sent_lm.py\", line 87, in run\n",
      "    train_loss = trainer.train_epoch()\n",
      "  File \"C:\\Users\\gabri\\Rimanakuy\\.\\modules\\trainer.py\", line 454, in train_epoch\n",
      "    for batch_index, batch in enumerate(self.train_loader, 1):\n",
      "  File \"C:\\Users\\gabri\\anaconda3\\envs\\rimanakuy1\\lib\\site-packages\\torch\\utils\\data\\dataloader.py\", line 438, in __iter__\n",
      "    return self._get_iterator()\n",
      "  File \"C:\\Users\\gabri\\anaconda3\\envs\\rimanakuy1\\lib\\site-packages\\torch\\utils\\data\\dataloader.py\", line 386, in _get_iterator\n",
      "    return _MultiProcessingDataLoaderIter(self)\n",
      "  File \"C:\\Users\\gabri\\anaconda3\\envs\\rimanakuy1\\lib\\site-packages\\torch\\utils\\data\\dataloader.py\", line 1039, in __init__\n",
      "    w.start()\n",
      "  File \"C:\\Users\\gabri\\anaconda3\\envs\\rimanakuy1\\lib\\multiprocessing\\process.py\", line 121, in start\n",
      "    self._popen = self._Popen(self)\n",
      "  File \"C:\\Users\\gabri\\anaconda3\\envs\\rimanakuy1\\lib\\multiprocessing\\context.py\", line 224, in _Popen\n",
      "    return _default_context.get_context().Process._Popen(process_obj)\n",
      "  File \"C:\\Users\\gabri\\anaconda3\\envs\\rimanakuy1\\lib\\multiprocessing\\context.py\", line 336, in _Popen\n",
      "    return Popen(process_obj)\n",
      "  File \"C:\\Users\\gabri\\anaconda3\\envs\\rimanakuy1\\lib\\multiprocessing\\popen_spawn_win32.py\", line 93, in __init__\n",
      "    reduction.dump(process_obj, to_child)\n",
      "  File \"C:\\Users\\gabri\\anaconda3\\envs\\rimanakuy1\\lib\\multiprocessing\\reduction.py\", line 60, in dump\n",
      "    ForkingPickler(file, protocol).dump(obj)\n",
      "AttributeError: Can't pickle local object 'BaseSequenceDataset.__init__.<locals>.<lambda>'\n",
      "Traceback (most recent call last):\n",
      "  File \"<string>\", line 1, in <module>\n",
      "  File \"C:\\Users\\gabri\\anaconda3\\envs\\rimanakuy1\\lib\\multiprocessing\\spawn.py\", line 116, in spawn_main\n",
      "    exitcode = _main(fd, parent_sentinel)\n",
      "  File \"C:\\Users\\gabri\\anaconda3\\envs\\rimanakuy1\\lib\\multiprocessing\\spawn.py\", line 126, in _main\n",
      "    self = reduction.pickle.load(from_parent)\n",
      "EOFError: Ran out of input\n"
     ]
    }
   ],
   "source": [
    "!python models/sent_lm.py --config configs/prototype.trans_lm_qu.yaml"
   ]
  },
  {
   "cell_type": "code",
   "execution_count": 24,
   "id": "6246bcad",
   "metadata": {},
   "outputs": [
    {
     "name": "stdout",
     "output_type": "stream",
     "text": [
      "Collecting graphviz\n",
      "  Using cached graphviz-0.20.1-py3-none-any.whl (47 kB)\n",
      "Installing collected packages: graphviz\n",
      "Successfully installed graphviz-0.20.1\n"
     ]
    }
   ],
   "source": [
    "!pip install graphviz"
   ]
  },
  {
   "cell_type": "code",
   "execution_count": 28,
   "id": "4f2a4922",
   "metadata": {},
   "outputs": [
    {
     "name": "stdout",
     "output_type": "stream",
     "text": [
      "Collecting dill\n",
      "  Obtaining dependency information for dill from https://files.pythonhosted.org/packages/f5/3a/74a29b11cf2cdfcd6ba89c0cecd70b37cd1ba7b77978ce611eb7a146a832/dill-0.3.7-py3-none-any.whl.metadata\n",
      "  Downloading dill-0.3.7-py3-none-any.whl.metadata (9.9 kB)\n",
      "Downloading dill-0.3.7-py3-none-any.whl (115 kB)\n",
      "   ---------------------------------------- 0.0/115.3 kB ? eta -:--:--\n",
      "   --- ------------------------------------ 10.2/115.3 kB ? eta -:--:--\n",
      "   --- ------------------------------------ 10.2/115.3 kB ? eta -:--:--\n",
      "   ------------- ------------------------- 41.0/115.3 kB 393.8 kB/s eta 0:00:01\n",
      "   ------------------------ -------------- 71.7/115.3 kB 563.7 kB/s eta 0:00:01\n",
      "   -------------------------------------- 115.3/115.3 kB 673.2 kB/s eta 0:00:00\n",
      "Installing collected packages: dill\n",
      "Successfully installed dill-0.3.7\n"
     ]
    }
   ],
   "source": [
    "!pip install dill"
   ]
  },
  {
   "cell_type": "code",
   "execution_count": 1,
   "id": "0d31a6c1",
   "metadata": {},
   "outputs": [
    {
     "name": "stdout",
     "output_type": "stream",
     "text": [
      "^C\n"
     ]
    }
   ],
   "source": [
    "!python models/nmt_prior.py --config configs/transformer/trans.ques_base.yaml --name final.trans.ques_base"
   ]
  },
  {
   "cell_type": "code",
   "execution_count": null,
   "id": "175f06be",
   "metadata": {},
   "outputs": [],
   "source": []
  }
 ],
 "metadata": {
  "kernelspec": {
   "display_name": "Python 3 (ipykernel)",
   "language": "python",
   "name": "python3"
  },
  "language_info": {
   "codemirror_mode": {
    "name": "ipython",
    "version": 3
   },
   "file_extension": ".py",
   "mimetype": "text/x-python",
   "name": "python",
   "nbconvert_exporter": "python",
   "pygments_lexer": "ipython3",
   "version": "3.10.14"
  }
 },
 "nbformat": 4,
 "nbformat_minor": 5
}
